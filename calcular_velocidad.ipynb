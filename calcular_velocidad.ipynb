{
  "nbformat": 4,
  "nbformat_minor": 0,
  "metadata": {
    "colab": {
      "provenance": [],
      "authorship_tag": "ABX9TyOTdW3V32ckuk2QWpOMeSeK",
      "include_colab_link": true
    },
    "kernelspec": {
      "name": "python3",
      "display_name": "Python 3"
    },
    "language_info": {
      "name": "python"
    }
  },
  "cells": [
    {
      "cell_type": "markdown",
      "metadata": {
        "id": "view-in-github",
        "colab_type": "text"
      },
      "source": [
        "<a href=\"https://colab.research.google.com/github/valeeeeepatlan1-source/Myfirst_notebook/blob/main/calcular_velocidad.ipynb\" target=\"_parent\"><img src=\"https://colab.research.google.com/assets/colab-badge.svg\" alt=\"Open In Colab\"/></a>"
      ]
    },
    {
      "cell_type": "code",
      "execution_count": 3,
      "metadata": {
        "colab": {
          "base_uri": "https://localhost:8080/"
        },
        "id": "rE53n4XUqNV6",
        "outputId": "c907cd91-c5f8-49fe-f1a8-f7eecece5d00"
      },
      "outputs": [
        {
          "output_type": "stream",
          "name": "stdout",
          "text": [
            "Programa para calcular velocidad\n",
            "Ingresa la distancia en metros: 25\n",
            "Ingresa el tiempo en segundos: 10\n",
            "La velocidad es: 2.5 m/s\n"
          ]
        }
      ],
      "source": [
        "# Programa para calcular la velocidad\n",
        "# v = d / t (en m/s)\n",
        "\n",
        "# Calculo de velocidad\n",
        "print(\"Programa para calcular velocidad\")\n",
        "distancia = float(input(\"Ingresa la distancia en metros: \"))\n",
        "tiempo = float(input(\"Ingresa el tiempo en segundos: \"))\n",
        "if distancia <= 0 or tiempo <= 0:\n",
        "    print(\"Error: Debe ser mayor a 0.\")\n",
        "else:\n",
        "    velocidad = distancia / tiempo\n",
        "    print(\"La velocidad es:\", velocidad, \"m/s\")"
      ]
    }
  ]
}