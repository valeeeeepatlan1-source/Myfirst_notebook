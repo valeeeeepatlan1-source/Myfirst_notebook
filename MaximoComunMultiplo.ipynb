{
  "nbformat": 4,
  "nbformat_minor": 0,
  "metadata": {
    "colab": {
      "provenance": [],
      "authorship_tag": "ABX9TyNTy9r45PH7bSn/rQJmbQI6",
      "include_colab_link": true
    },
    "kernelspec": {
      "name": "python3",
      "display_name": "Python 3"
    },
    "language_info": {
      "name": "python"
    }
  },
  "cells": [
    {
      "cell_type": "markdown",
      "metadata": {
        "id": "view-in-github",
        "colab_type": "text"
      },
      "source": [
        "<a href=\"https://colab.research.google.com/github/valeeeeepatlan1-source/Myfirst_notebook/blob/main/MaximoComunMultiplo.ipynb\" target=\"_parent\"><img src=\"https://colab.research.google.com/assets/colab-badge.svg\" alt=\"Open In Colab\"/></a>"
      ]
    },
    {
      "cell_type": "code",
      "execution_count": 3,
      "metadata": {
        "colab": {
          "base_uri": "https://localhost:8080/"
        },
        "id": "ySxflisnsVoZ",
        "outputId": "d5e0cbda-0e38-4a74-ff81-56156e7fe60d"
      },
      "outputs": [
        {
          "output_type": "stream",
          "name": "stdout",
          "text": [
            "Programa para MCM de dos números\n",
            "Ingresa el primer número: 12\n",
            "Ingresa el segundo número: 18\n",
            "El MCM es: 36\n"
          ]
        }
      ],
      "source": [
        "# Calculo de MCM\n",
        "print(\"Programa para MCM de dos números\")\n",
        "num1 = int(input(\"Ingresa el primer número: \"))\n",
        "num2 = int(input(\"Ingresa el segundo número: \"))\n",
        "if num1 <= 0 or num2 <= 0:\n",
        "    print(\"Error: Usa números enteros positivos.\")\n",
        "else:\n",
        "    # Calcular MCD\n",
        "    mcd = num1\n",
        "    divisor = num2\n",
        "    while divisor != 0:\n",
        "        residuo = mcd % divisor\n",
        "        mcd = divisor\n",
        "        divisor = residuo\n",
        "\n",
        "    # Calcular MCM\n",
        "    mcm = (num1 * num2) // mcd  # // para entero\n",
        "\n",
        "    print(\"El MCM es:\", mcm)\n"
      ]
    }
  ]
}